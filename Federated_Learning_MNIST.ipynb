{
 "cells": [
  {
   "cell_type": "markdown",
   "metadata": {},
   "source": [
    "Importing required dependencies and dataset"
   ]
  },
  {
   "cell_type": "code",
   "execution_count": 1,
   "metadata": {},
   "outputs": [],
   "source": [
    "import torch\n",
    "import numpy as np\n",
    "from torchvision import datasets\n",
    "import torchvision.transforms as transforms\n",
    "\n",
    "from torch.utils.data.sampler import SubsetRandomSampler\n",
    "\n",
    "\n",
    "transform = transforms.ToTensor()\n",
    "\n",
    "train_data = datasets.MNIST(root='data', train=True,\n",
    "                                   download=True, transform=transform)\n",
    "test_data = datasets.MNIST(root='data', train=False,\n",
    "                                  download=True, transform=transform)\n",
    "\n",
    "num_users = 240"
   ]
  },
  {
   "cell_type": "code",
   "execution_count": 2,
   "metadata": {},
   "outputs": [],
   "source": [
    "train_loader = torch.utils.data.DataLoader(train_data, batch_size = len(train_data)//num_users, shuffle = True)\n",
    "\n",
    "\n",
    "test_loader = torch.utils.data.DataLoader(test_data, batch_size =  100, shuffle = True)"
   ]
  },
  {
   "cell_type": "code",
   "execution_count": null,
   "metadata": {},
   "outputs": [],
   "source": []
  },
  {
   "cell_type": "code",
   "execution_count": 3,
   "metadata": {},
   "outputs": [],
   "source": [
    "import syft as sy\n",
    "\n",
    "hook = sy.TorchHook(torch)\n",
    "\n",
    "users = []\n",
    "for i in range(1, num_users+1):\n",
    "    users.append('user_' + str(i))\n",
    "    \n",
    "user_workers = []\n",
    "for user in users:\n",
    "    user_workers.append(sy.VirtualWorker(hook, id = user))\n",
    "    \n",
    "\n",
    "    \n",
    "\n"
   ]
  },
  {
   "cell_type": "code",
   "execution_count": 4,
   "metadata": {},
   "outputs": [],
   "source": [
    "datasets = []\n",
    "i = 0\n",
    "for images, labels in train_loader:\n",
    "    images_ptr = images.send(user_workers[i])\n",
    "    labels_ptr = labels.send(user_workers[i])\n",
    "    datasets.append((images_ptr, labels_ptr))\n",
    "    i += 1"
   ]
  },
  {
   "cell_type": "code",
   "execution_count": 5,
   "metadata": {},
   "outputs": [
    {
     "data": {
      "text/plain": [
       "Model(\n",
       "  (fc1): Linear(in_features=784, out_features=512, bias=True)\n",
       "  (fc2): Linear(in_features=512, out_features=256, bias=True)\n",
       "  (fc3): Linear(in_features=256, out_features=128, bias=True)\n",
       "  (fc4): Linear(in_features=128, out_features=64, bias=True)\n",
       "  (fc5): Linear(in_features=64, out_features=10, bias=True)\n",
       "  (Dropout): Dropout(p=0.01, inplace=False)\n",
       ")"
      ]
     },
     "execution_count": 5,
     "metadata": {},
     "output_type": "execute_result"
    }
   ],
   "source": [
    "import torch.nn as nn\n",
    "import torch.nn.functional as F\n",
    "\n",
    "class Model(nn.Module):\n",
    "    def __init__(self):\n",
    "        super(Model, self).__init__()\n",
    "        self.fc1 = nn.Linear(784, 512)\n",
    "        self.fc2 = nn.Linear(512, 256)\n",
    "        self.fc3 = nn.Linear(256, 128)\n",
    "        self.fc4 = nn.Linear(128, 64)\n",
    "        self.fc5 = nn.Linear(64, 10)\n",
    "        \n",
    "        self.Dropout = nn.Dropout(0.01)\n",
    "    \n",
    "    def forward(self, x):\n",
    "        x = x.view(x.shape[0], -1)\n",
    "        \n",
    "        x = self.Dropout(F.relu(self.fc1(x)))\n",
    "        x = self.Dropout(F.relu(self.fc2(x)))\n",
    "        x = self.Dropout(F.relu(self.fc3(x)))\n",
    "        x = self.Dropout(F.relu(self.fc4(x)))\n",
    "        \n",
    "        x = self.fc5(x)\n",
    "        \n",
    "        return x\n",
    "    \n",
    "model = Model()\n",
    "model"
   ]
  },
  {
   "cell_type": "code",
   "execution_count": 6,
   "metadata": {},
   "outputs": [
    {
     "data": {
      "text/plain": [
       "device(type='cuda')"
      ]
     },
     "execution_count": 6,
     "metadata": {},
     "output_type": "execute_result"
    }
   ],
   "source": [
    "device = torch.device(\"cuda\" if torch.cuda.is_available() else \"cpu\")\n",
    "device"
   ]
  },
  {
   "cell_type": "code",
   "execution_count": 7,
   "metadata": {},
   "outputs": [
    {
     "name": "stdout",
     "output_type": "stream",
     "text": [
      "Epoch: 1/50 Training Loss: 2.303291854262352 Validation Loss: 2.301993577480316\n",
      "Epoch: 2/50 Training Loss: 2.3006940126419066 Validation Loss: 2.2993456649780275\n",
      "Epoch: 3/50 Training Loss: 2.2980968097845715 Validation Loss: 2.2965877294540404\n",
      "Epoch: 4/50 Training Loss: 2.2952942579984663 Validation Loss: 2.293506028652191\n",
      "Epoch: 5/50 Training Loss: 2.292066952586174 Validation Loss: 2.289911694526672\n",
      "Epoch: 6/50 Training Loss: 2.2881706148386 Validation Loss: 2.285454649925232\n",
      "Epoch: 7/50 Training Loss: 2.283151517311732 Validation Loss: 2.279499216079712\n",
      "Epoch: 8/50 Training Loss: 2.2762120296557744 Validation Loss: 2.270987541675568\n",
      "Epoch: 9/50 Training Loss: 2.2659847845633823 Validation Loss: 2.258159041404724\n",
      "Epoch: 10/50 Training Loss: 2.2497681866089505 Validation Loss: 2.236858184337616\n",
      "Epoch: 11/50 Training Loss: 2.2210839380820593 Validation Loss: 2.1969298410415647\n",
      "Epoch: 12/50 Training Loss: 2.1651906023422876 Validation Loss: 2.118958766460419\n",
      "Epoch: 13/50 Training Loss: 2.0607585315903028 Validation Loss: 1.9835305213928223\n",
      "Epoch: 14/50 Training Loss: 1.8960426370302836 Validation Loss: 1.7824562335014342\n",
      "Epoch: 15/50 Training Loss: 1.6673046420017879 Validation Loss: 1.5309624338150025\n",
      "Epoch: 16/50 Training Loss: 1.4308520649870238 Validation Loss: 1.3153962838649749\n",
      "Epoch: 17/50 Training Loss: 1.2499327739079793 Validation Loss: 1.1633669477701187\n",
      "Epoch: 18/50 Training Loss: 1.1169485506912074 Validation Loss: 1.0411003690958023\n",
      "Epoch: 19/50 Training Loss: 0.9932776438693206 Validation Loss: 0.9069426769018173\n",
      "Epoch: 20/50 Training Loss: 0.856880963097016 Validation Loss: 0.7732355165481567\n",
      "Epoch: 21/50 Training Loss: 0.7480304678281148 Validation Loss: 0.6864808139204979\n",
      "Epoch: 22/50 Training Loss: 0.6844879575073719 Validation Loss: 0.6350277197360993\n",
      "Epoch: 23/50 Training Loss: 0.6427409790456295 Validation Loss: 0.5995908510684967\n",
      "Epoch: 24/50 Training Loss: 0.6122585353751977 Validation Loss: 0.5720373997092247\n",
      "Epoch: 25/50 Training Loss: 0.5864832690606515 Validation Loss: 0.5480126821994782\n",
      "Epoch: 26/50 Training Loss: 0.5646137166768312 Validation Loss: 0.5262924635410309\n",
      "Epoch: 27/50 Training Loss: 0.5424742369602124 Validation Loss: 0.5058130523562432\n",
      "Epoch: 28/50 Training Loss: 0.5202367297063272 Validation Loss: 0.4857798931002617\n",
      "Epoch: 29/50 Training Loss: 0.5020424955834945 Validation Loss: 0.4668179017305374\n",
      "Epoch: 30/50 Training Loss: 0.48234595557053883 Validation Loss: 0.4482505416870117\n",
      "Epoch: 31/50 Training Loss: 0.46318842222293216 Validation Loss: 0.43029430136084557\n",
      "Epoch: 32/50 Training Loss: 0.445122225706776 Validation Loss: 0.41409819945693016\n",
      "Epoch: 33/50 Training Loss: 0.4284119019905726 Validation Loss: 0.39861750677227975\n",
      "Epoch: 34/50 Training Loss: 0.4130729347467422 Validation Loss: 0.38464564964175224\n",
      "Epoch: 35/50 Training Loss: 0.40062094206611315 Validation Loss: 0.3728384709358215\n",
      "Epoch: 36/50 Training Loss: 0.3868588910748561 Validation Loss: 0.36114050939679143\n",
      "Epoch: 37/50 Training Loss: 0.3764989705135425 Validation Loss: 0.35115679949522016\n",
      "Epoch: 38/50 Training Loss: 0.36635675268868606 Validation Loss: 0.34155730962753295\n",
      "Epoch: 39/50 Training Loss: 0.35685636289417744 Validation Loss: 0.3327805005013943\n",
      "Epoch: 40/50 Training Loss: 0.34714298204829297 Validation Loss: 0.32448563024401667\n",
      "Epoch: 41/50 Training Loss: 0.33930234958728156 Validation Loss: 0.3167359407991171\n",
      "Epoch: 42/50 Training Loss: 0.3294708307211598 Validation Loss: 0.3094102086126804\n",
      "Epoch: 43/50 Training Loss: 0.32284250960995753 Validation Loss: 0.3022301170229912\n",
      "Epoch: 44/50 Training Loss: 0.315830624413987 Validation Loss: 0.2951935213804245\n",
      "Epoch: 45/50 Training Loss: 0.3079780584822098 Validation Loss: 0.28894773811101915\n",
      "Epoch: 46/50 Training Loss: 0.2997459003701806 Validation Loss: 0.2824049298465252\n",
      "Epoch: 47/50 Training Loss: 0.29383319752911724 Validation Loss: 0.27618806436657906\n",
      "Epoch: 48/50 Training Loss: 0.2884553524975975 Validation Loss: 0.269998093098402\n",
      "Epoch: 49/50 Training Loss: 0.2820551983391245 Validation Loss: 0.26437002547085287\n",
      "Epoch: 50/50 Training Loss: 0.27628503094116846 Validation Loss: 0.2585799068212509\n"
     ]
    }
   ],
   "source": [
    "num_epochs = 50\n",
    "criterion = nn.CrossEntropyLoss()\n",
    "optim = torch.optim.SGD(model.parameters(), lr = 0.005)\n",
    "\n",
    "model.to(device)\n",
    "\n",
    "epoch_losses = []            \n",
    "valid_losses = []\n",
    "\n",
    "for e in range(1, num_epochs+1):\n",
    "    epoch_loss = 0\n",
    "    valid_loss = 0\n",
    "    for images, labels in datasets:\n",
    "        \n",
    "        optim.zero_grad()\n",
    "        \n",
    "        model.send(images.location)\n",
    "        \n",
    "        images, labels = images.to(device), labels.to(device)\n",
    "        \n",
    "        logits = model(images)\n",
    "        #print(labels.shape, pred.shape)\n",
    "        loss = criterion(logits, labels)\n",
    "        \n",
    "        loss.backward()\n",
    "        optim.step()\n",
    "        \n",
    "        model = model.get()\n",
    "        \n",
    "        epoch_loss += loss.get().item() * images.shape[0]\n",
    "\n",
    "        \n",
    "    model.eval()\n",
    "    for images, labels in test_loader:\n",
    "        images, labels = images.to(device), labels.to(device)\n",
    "        \n",
    "        logits = model(images)\n",
    "        loss = criterion(logits, labels)\n",
    "        \n",
    "        valid_loss += loss.item() * images.shape[0]\n",
    "    \n",
    "    model.train()\n",
    "    \n",
    "    epoch_losses.append(epoch_loss/60000)\n",
    "    valid_losses.append(valid_loss/10000)\n",
    "    \n",
    "    print(f\"Epoch: {e}/{num_epochs} Training Loss: {epoch_loss/60000} Validation Loss: {valid_loss/10000}\")\n",
    "        \n",
    "    \n"
   ]
  },
  {
   "cell_type": "code",
   "execution_count": 8,
   "metadata": {},
   "outputs": [
    {
     "data": {
      "text/plain": [
       "Text(0, 0.5, 'Training Loss')"
      ]
     },
     "execution_count": 8,
     "metadata": {},
     "output_type": "execute_result"
    },
    {
     "data": {
      "image/png": "[encoded data removed]",
      "text/plain": [
       "<Figure size 360x360 with 1 Axes>"
      ]
     },
     "metadata": {
      "needs_background": "light"
     },
     "output_type": "display_data"
    }
   ],
   "source": [
    "import matplotlib.pyplot as plt\n",
    "import numpy as np\n",
    "\n",
    "plt.figure(figsize = (5,5))\n",
    "plt.plot(range(1, num_epochs+1), epoch_losses) \n",
    "plt.title(\"Visualizing Training Loss\")\n",
    "plt.xlabel(\"Number of Epochs\")\n",
    "plt.ylabel(\"Training Loss\")"
   ]
  },
  {
   "cell_type": "code",
   "execution_count": 9,
   "metadata": {},
   "outputs": [
    {
     "data": {
      "text/plain": [
       "Text(0, 0.5, 'Validation Loss')"
      ]
     },
     "execution_count": 9,
     "metadata": {},
     "output_type": "execute_result"
    },
    {
     "data": {
      "image/png": "[encoded data removed]",
      "text/plain": [
       "<Figure size 360x360 with 1 Axes>"
      ]
     },
     "metadata": {
      "needs_background": "light"
     },
     "output_type": "display_data"
    }
   ],
   "source": [
    "plt.figure(figsize = (5,5))          \n",
    "plt.plot(range(1, num_epochs+1), valid_losses)\n",
    "plt.title(\"Validation Loss\")\n",
    "plt.xlabel(\"Number of Epochs\")\n",
    "plt.ylabel(\"Validation Loss\")"
   ]
  },
  {
   "cell_type": "code",
   "execution_count": 10,
   "metadata": {},
   "outputs": [
    {
     "name": "stderr",
     "output_type": "stream",
     "text": [
      "C:\\Users\\sachd\\Anaconda3\\lib\\site-packages\\syft\\frameworks\\torch\\tensors\\interpreters\\native.py:397: UserWarning: Implicit dimension choice for softmax has been deprecated. Change the call to include dim=X as an argument.\n",
      "  response = command_method(*args_, **kwargs_)\n"
     ]
    },
    {
     "name": "stdout",
     "output_type": "stream",
     "text": [
      "Test Loss: 1.555749\n",
      "\n",
      "Test Accuracy of     0: 96% (5732/5923)\n",
      "Test Accuracy of     1: 96% (6537/6742)\n",
      "Test Accuracy of     2: 91% (5433/5958)\n",
      "Test Accuracy of     3: 89% (5515/6131)\n",
      "Test Accuracy of     4: 93% (5441/5842)\n",
      "Test Accuracy of     5: 88% (4789/5421)\n",
      "Test Accuracy of     6: 95% (5664/5918)\n",
      "Test Accuracy of     7: 94% (5906/6265)\n",
      "Test Accuracy of     8: 89% (5213/5851)\n",
      "Test Accuracy of     9: 89% (5301/5949)\n",
      "\n",
      "Test Accuracy (Overall): 92% (55531/60000)\n"
     ]
    }
   ],
   "source": [
    "classes = [0, 1, 2, 3, 4, 5, 6, 7, 8, 9]\n",
    "\n",
    "train_on_gpu = True\n",
    "\n",
    "\n",
    "test_loss = 0.0\n",
    "\n",
    "class_correct = [0. for i in range(10)]\n",
    "class_total = [0. for i in range(10)]\n",
    "\n",
    "model.eval()                                                        \n",
    "\n",
    "\n",
    "for (images, labels) in test_loader:\n",
    "    \n",
    "    images, labels = images.to(device), labels.to(device)\n",
    "    \n",
    "    logits = model(images)\n",
    "    \n",
    "    loss = criterion(logits, labels)\n",
    "    \n",
    "    test_loss += loss.item()*images.size(0)\n",
    "    \n",
    "    pred_prob = F.softmax(logits)                               \n",
    "    \n",
    "    _, predicted_class = pred_prob.max(1)                       \n",
    "    \n",
    "    correct_tensor = predicted_class.eq(labels.data.view_as(predicted_class))\n",
    "    \n",
    "    correct = np.squeeze(correct_tensor.numpy()) if not train_on_gpu else np.squeeze(correct_tensor.cpu().numpy())\n",
    "    \n",
    "    batch_size = labels.size(0)\n",
    "    \n",
    "    for i in range(batch_size):\n",
    "        label = labels.data[i]\n",
    "        class_correct[label] += correct[i].item()\n",
    "        class_total[label] += 1\n",
    "\n",
    "test_loss = test_loss/len(test_loader.dataset)\n",
    "print('Test Loss: {:.6f}\\n'.format(test_loss))\n",
    "\n",
    "for i in range(10):                                                              \n",
    "    if class_total[i] > 0:\n",
    "        print('Test Accuracy of %5s: %2d%% (%2d/%2d)' % (\n",
    "            classes[i], 100 * class_correct[i] / class_total[i],\n",
    "            np.sum(class_correct[i]), np.sum(class_total[i])))\n",
    "    else:\n",
    "        print('Test Accuracy of %5s: N/A (no training examples)' % (classes[i]))\n",
    "\n",
    "print('\\nTest Accuracy (Overall): %2d%% (%2d/%2d)' % (                           \n",
    "    100. * np.sum(class_correct) / np.sum(class_total),\n",
    "    np.sum(class_correct), np.sum(class_total)))"
   ]
  },
  {
   "cell_type": "code",
   "execution_count": null,
   "metadata": {},
   "outputs": [],
   "source": []
  }
 ],
 "metadata": {
  "kernelspec": {
   "display_name": "Python 3",
   "language": "python",
   "name": "python3"
  },
  "language_info": {
   "codemirror_mode": {
    "name": "ipython",
    "version": 3
   },
   "file_extension": ".py",
   "mimetype": "text/x-python",
   "name": "python",
   "nbconvert_exporter": "python",
   "pygments_lexer": "ipython3",
   "version": "3.7.7"
  }
 },
 "nbformat": 4,
 "nbformat_minor": 4
}

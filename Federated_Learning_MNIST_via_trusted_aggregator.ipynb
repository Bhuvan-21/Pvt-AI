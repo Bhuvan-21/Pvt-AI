{
 "cells": [
  {
   "cell_type": "markdown",
   "metadata": {},
   "source": [
    "Importing required dependencies and dataset"
   ]
  },
  {
   "cell_type": "code",
   "execution_count": 1,
   "metadata": {},
   "outputs": [],
   "source": [
    "import torch\n",
    "import numpy as np\n",
    "from torchvision import datasets\n",
    "import torchvision.transforms as transforms\n",
    "\n",
    "from torch.utils.data.sampler import SubsetRandomSampler\n",
    "\n",
    "\n",
    "transform = transforms.ToTensor()\n",
    "\n",
    "train_data = datasets.MNIST(root='data', train=True,\n",
    "                                   download=True, transform=transform)\n",
    "test_data = datasets.MNIST(root='data', train=False,\n",
    "                                  download=True, transform=transform)\n",
    "\n",
    "num_users = 500"
   ]
  },
  {
   "cell_type": "code",
   "execution_count": 2,
   "metadata": {},
   "outputs": [],
   "source": [
    "train_loader = torch.utils.data.DataLoader(train_data, batch_size = len(train_data)//num_users, shuffle = True)\n",
    "\n",
    "\n",
    "test_loader = torch.utils.data.DataLoader(test_data, batch_size =  100, shuffle = True)"
   ]
  },
  {
   "cell_type": "code",
   "execution_count": null,
   "metadata": {},
   "outputs": [],
   "source": []
  },
  {
   "cell_type": "code",
   "execution_count": 3,
   "metadata": {},
   "outputs": [],
   "source": [
    "import syft as sy\n",
    "\n",
    "hook = sy.TorchHook(torch)\n",
    "\n",
    "users = []\n",
    "for i in range(1, num_users+1):\n",
    "    users.append('user_' + str(i))\n",
    "    \n",
    "user_workers = []\n",
    "for user in users:\n",
    "    user_workers.append(sy.VirtualWorker(hook, id = user))\n",
    "    \n",
    "\n",
    "    \n",
    "\n"
   ]
  },
  {
   "cell_type": "code",
   "execution_count": 4,
   "metadata": {},
   "outputs": [],
   "source": [
    "datasets = []\n",
    "i = 0\n",
    "for images, labels in train_loader:\n",
    "    images_ptr = images.send(user_workers[i])\n",
    "    labels_ptr = labels.send(user_workers[i])\n",
    "    datasets.append((images_ptr, labels_ptr))\n",
    "    i += 1"
   ]
  },
  {
   "cell_type": "code",
   "execution_count": 5,
   "metadata": {},
   "outputs": [
    {
     "data": {
      "text/plain": [
       "Model(\n",
       "  (fc1): Linear(in_features=784, out_features=512, bias=True)\n",
       "  (fc2): Linear(in_features=512, out_features=256, bias=True)\n",
       "  (fc3): Linear(in_features=256, out_features=128, bias=True)\n",
       "  (fc4): Linear(in_features=128, out_features=64, bias=True)\n",
       "  (fc5): Linear(in_features=64, out_features=10, bias=True)\n",
       "  (Dropout): Dropout(p=0.01, inplace=False)\n",
       ")"
      ]
     },
     "execution_count": 5,
     "metadata": {},
     "output_type": "execute_result"
    }
   ],
   "source": [
    "import torch.nn as nn\n",
    "import torch.nn.functional as F\n",
    "\n",
    "class Model(nn.Module):\n",
    "    def __init__(self):\n",
    "        super(Model, self).__init__()\n",
    "        self.fc1 = nn.Linear(784, 512)\n",
    "        self.fc2 = nn.Linear(512, 256)\n",
    "        self.fc3 = nn.Linear(256, 128)\n",
    "        self.fc4 = nn.Linear(128, 64)\n",
    "        self.fc5 = nn.Linear(64, 10)\n",
    "        \n",
    "        self.Dropout = nn.Dropout(0.01)\n",
    "    \n",
    "    def forward(self, x):\n",
    "        x = x.view(x.shape[0], -1)\n",
    "        \n",
    "        x = self.Dropout(F.relu(self.fc1(x)))\n",
    "        x = self.Dropout(F.relu(self.fc2(x)))\n",
    "        x = self.Dropout(F.relu(self.fc3(x)))\n",
    "        x = self.Dropout(F.relu(self.fc4(x)))\n",
    "        \n",
    "        x = self.fc5(x)\n",
    "        \n",
    "        return x\n",
    "    \n",
    "base_model = Model()\n",
    "base_model\n"
   ]
  },
  {
   "cell_type": "code",
   "execution_count": 6,
   "metadata": {},
   "outputs": [],
   "source": [
    "device = torch.device(\"cuda\" if torch.cuda.is_available() else \"cpu\")\n",
    "device = \"cpu\""
   ]
  },
  {
   "cell_type": "code",
   "execution_count": 7,
   "metadata": {},
   "outputs": [
    {
     "data": {
      "text/plain": [
       "<VirtualWorker id:Trusted_aggregator #objects:6>"
      ]
     },
     "execution_count": 7,
     "metadata": {},
     "output_type": "execute_result"
    }
   ],
   "source": [
    "trusted_aggregator = sy.VirtualWorker(hook, 'Trusted_aggregator')\n",
    "trusted_aggregator"
   ]
  },
  {
   "cell_type": "code",
   "execution_count": null,
   "metadata": {},
   "outputs": [],
   "source": []
  },
  {
   "cell_type": "code",
   "execution_count": 8,
   "metadata": {},
   "outputs": [
    {
     "name": "stdout",
     "output_type": "stream",
     "text": [
      "Epoch: 1/50 Training Loss: 2.3053339314460755 Validation Loss: 2.2975712418556213\n",
      "Epoch: 2/50 Training Loss: 2.2977345423698425 Validation Loss: 2.2873194551467897\n",
      "Epoch: 3/50 Training Loss: 2.2875768070220945 Validation Loss: 2.275109930038452\n",
      "Epoch: 4/50 Training Loss: 2.2754295830726625 Validation Loss: 2.254392046928406\n",
      "Epoch: 5/50 Training Loss: 2.2548639225959777 Validation Loss: 2.2351288866996764\n",
      "Epoch: 6/50 Training Loss: 2.2360536947250367 Validation Loss: 2.1979043078422547\n",
      "Epoch: 7/50 Training Loss: 2.198648298740387 Validation Loss: 2.1665958976745605\n",
      "Epoch: 8/50 Training Loss: 2.168125433921814 Validation Loss: 2.124027256965637\n",
      "Epoch: 9/50 Training Loss: 2.125348801612854 Validation Loss: 2.0821541810035704\n",
      "Epoch: 10/50 Training Loss: 2.0842912304401398 Validation Loss: 2.0253047847747805\n",
      "Epoch: 11/50 Training Loss: 2.0269580512046814 Validation Loss: 1.9664076745510102\n",
      "Epoch: 12/50 Training Loss: 1.9688868894577027 Validation Loss: 1.9111993968486787\n",
      "Epoch: 13/50 Training Loss: 1.9129426898956299 Validation Loss: 1.844191792011261\n",
      "Epoch: 14/50 Training Loss: 1.846273678302765 Validation Loss: 1.8111248874664307\n",
      "Epoch: 15/50 Training Loss: 1.8145315217971802 Validation Loss: 1.7421395754814148\n",
      "Epoch: 16/50 Training Loss: 1.7434437334537507 Validation Loss: 1.6926908600330353\n",
      "Epoch: 17/50 Training Loss: 1.7012767972946168 Validation Loss: 1.637472767829895\n",
      "Epoch: 18/50 Training Loss: 1.636752878665924 Validation Loss: 1.5662967729568482\n",
      "Epoch: 19/50 Training Loss: 1.5762964475154877 Validation Loss: 1.5295340192317963\n",
      "Epoch: 20/50 Training Loss: 1.5276962769031526 Validation Loss: 1.4476134717464446\n",
      "Epoch: 21/50 Training Loss: 1.456605343580246 Validation Loss: 1.447371505498886\n",
      "Epoch: 22/50 Training Loss: 1.446295060634613 Validation Loss: 1.3466522622108459\n",
      "Epoch: 23/50 Training Loss: 1.3513557552099227 Validation Loss: 1.3751208257675172\n",
      "Epoch: 24/50 Training Loss: 1.380174120426178 Validation Loss: 1.2753067326545715\n",
      "Epoch: 25/50 Training Loss: 1.278929187655449 Validation Loss: 1.327055481672287\n",
      "Epoch: 26/50 Training Loss: 1.336452126979828 Validation Loss: 1.2195213890075685\n",
      "Epoch: 27/50 Training Loss: 1.220390254855156 Validation Loss: 1.2756113624572754\n",
      "Epoch: 28/50 Training Loss: 1.2875538728237153 Validation Loss: 1.1660540169477462\n",
      "Epoch: 29/50 Training Loss: 1.168703397512436 Validation Loss: 1.2337823617458343\n",
      "Epoch: 30/50 Training Loss: 1.2486243580579757 Validation Loss: 1.1304931932687758\n",
      "Epoch: 31/50 Training Loss: 1.1295994564294816 Validation Loss: 1.2110220730304717\n",
      "Epoch: 32/50 Training Loss: 1.2293069282770157 Validation Loss: 1.081831592321396\n",
      "Epoch: 33/50 Training Loss: 1.0799438108205794 Validation Loss: 1.1960601204633712\n",
      "Epoch: 34/50 Training Loss: 1.215933226108551 Validation Loss: 1.0446628272533416\n",
      "Epoch: 35/50 Training Loss: 1.0429122511148452 Validation Loss: 1.1725787514448165\n",
      "Epoch: 36/50 Training Loss: 1.1950891624689102 Validation Loss: 1.009049271941185\n",
      "Epoch: 37/50 Training Loss: 1.0055047927498817 Validation Loss: 1.1777486056089401\n",
      "Epoch: 38/50 Training Loss: 1.2011005152463914 Validation Loss: 1.005313503742218\n",
      "Epoch: 39/50 Training Loss: 1.000487108707428 Validation Loss: 1.227728966474533\n",
      "Epoch: 40/50 Training Loss: 1.2485493082404138 Validation Loss: 1.0509756648540496\n",
      "Epoch: 41/50 Training Loss: 1.049117085814476 Validation Loss: 1.2319075709581375\n",
      "Epoch: 42/50 Training Loss: 1.2449029430747032 Validation Loss: 1.0606329262256622\n",
      "Epoch: 43/50 Training Loss: 1.0566787924170493 Validation Loss: 1.2138293236494064\n",
      "Epoch: 44/50 Training Loss: 1.233458250939846 Validation Loss: 1.0343544667959212\n",
      "Epoch: 45/50 Training Loss: 1.03162336820364 Validation Loss: 1.1956525593996048\n",
      "Epoch: 46/50 Training Loss: 1.2146722205281257 Validation Loss: 1.0328321748971938\n",
      "Epoch: 47/50 Training Loss: 1.0317079362273216 Validation Loss: 1.167475647330284\n",
      "Epoch: 48/50 Training Loss: 1.185565623998642 Validation Loss: 1.0295657813549042\n",
      "Epoch: 49/50 Training Loss: 1.036974579811096 Validation Loss: 1.1222412890195848\n",
      "Epoch: 50/50 Training Loss: 1.132520368039608 Validation Loss: 1.0195337271690368\n"
     ]
    }
   ],
   "source": [
    "from syft.frameworks.torch.fl import utils\n",
    "\n",
    "\n",
    "num_epochs = 50\n",
    "criterion = nn.CrossEntropyLoss()\n",
    "\n",
    "#base_model.to(device)\n",
    "a = False\n",
    "epoch_losses = []            \n",
    "valid_losses = []\n",
    "\n",
    "u_dict = {}\n",
    "\n",
    "for e in range(1, num_epochs+1):\n",
    "    epoch_loss = 0\n",
    "    valid_loss = 0\n",
    "    \n",
    "    user_models = []\n",
    "    for i in range(num_users):\n",
    "\n",
    "        user_models.append(base_model.copy().send(user_workers[i]))\n",
    "        \n",
    "    user_optim = []\n",
    "    for i in range(num_users):\n",
    "        u_model = user_models[i]\n",
    "        user_optim.append(torch.optim.Adam(u_model.parameters(), lr = 0.001))\n",
    "\n",
    "    base_model = base_model.send(trusted_aggregator)\n",
    "    \n",
    "    \n",
    "    for idx, (u_images, u_labels) in enumerate(datasets):\n",
    "        \n",
    "        optim = user_optim[idx]\n",
    "        optim.zero_grad()\n",
    "        \n",
    "        u_model = user_models[idx]\n",
    "        assert u_model.location == u_images.location\n",
    "        \n",
    "        #print(u_model.location, u_images)\n",
    "        logits = u_model(u_images)\n",
    "        \n",
    "        #print(labels.shape, pred.shape)\n",
    "        loss = criterion(logits, u_labels)\n",
    "        #print(logits, loss)\n",
    "        loss.backward()\n",
    "        optim.step()\n",
    "        u_model.move(trusted_aggregator)\n",
    "        u_dict[idx] =  u_model\n",
    "        #print(type(u_dict[idx]))\n",
    "        \n",
    "        \n",
    "        \n",
    "        epoch_loss += loss.get().item() * u_images.shape[0]\n",
    "        \n",
    "        \n",
    "    \n",
    "    \n",
    "    base_model = utils.federated_avg(u_dict)\n",
    "    base_model = base_model.get()\n",
    "    \n",
    "    for images, labels in test_loader:\n",
    "        \n",
    "        \n",
    "        logits_v = base_model(images)\n",
    "        loss_v = criterion(logits_v, labels)\n",
    "        \n",
    "        valid_loss += loss_v.item() * images.shape[0]\n",
    "    \n",
    "    \n",
    "    \n",
    "    epoch_losses.append(epoch_loss/60000)\n",
    "    valid_losses.append(valid_loss/10000)\n",
    "    \n",
    "    print(f\"Epoch: {e}/{num_epochs} Training Loss: {epoch_loss/60000} Validation Loss: {valid_loss/10000}\")\n"
   ]
  },
  {
   "cell_type": "code",
   "execution_count": 10,
   "metadata": {},
   "outputs": [
    {
     "data": {
      "text/plain": [
       "Text(0, 0.5, 'Training Loss')"
      ]
     },
     "execution_count": 10,
     "metadata": {},
     "output_type": "execute_result"
    },
    {
     "data": {
      "image/png": "[encoded data removed]",
      "text/plain": [
       "<Figure size 360x360 with 1 Axes>"
      ]
     },
     "metadata": {
      "needs_background": "light"
     },
     "output_type": "display_data"
    }
   ],
   "source": [
    "import matplotlib.pyplot as plt\n",
    "import numpy as np\n",
    "\n",
    "plt.figure(figsize = (5,5))\n",
    "plt.plot(range(1, num_epochs+1), epoch_losses) \n",
    "plt.title(\"Visualizing Training Loss\")\n",
    "plt.xlabel(\"Number of Epochs\")\n",
    "plt.ylabel(\"Training Loss\")"
   ]
  },
  {
   "cell_type": "code",
   "execution_count": 11,
   "metadata": {},
   "outputs": [
    {
     "data": {
      "text/plain": [
       "Text(0, 0.5, 'Validation Loss')"
      ]
     },
     "execution_count": 11,
     "metadata": {},
     "output_type": "execute_result"
    },
    {
     "data": {
      "image/png": "[encoded data removed]",
      "text/plain": [
       "<Figure size 360x360 with 1 Axes>"
      ]
     },
     "metadata": {
      "needs_background": "light"
     },
     "output_type": "display_data"
    }
   ],
   "source": [
    "plt.figure(figsize = (5,5))          \n",
    "plt.plot(range(1, num_epochs+1), valid_losses)\n",
    "plt.title(\"Validation Loss\")\n",
    "plt.xlabel(\"Number of Epochs\")\n",
    "plt.ylabel(\"Validation Loss\")"
   ]
  },
  {
   "cell_type": "code",
   "execution_count": 15,
   "metadata": {},
   "outputs": [
    {
     "name": "stdout",
     "output_type": "stream",
     "text": [
      "Test Loss: 1.011241\n",
      "\n",
      "Test Accuracy of     0: 83% (823/980)\n",
      "Test Accuracy of     1: 88% (1002/1135)\n",
      "Test Accuracy of     2: 68% (710/1032)\n",
      "Test Accuracy of     3: 80% (815/1010)\n",
      "Test Accuracy of     4: 81% (798/982)\n",
      "Test Accuracy of     5: 11% (100/892)\n",
      "Test Accuracy of     6: 72% (693/958)\n",
      "Test Accuracy of     7: 64% (663/1028)\n",
      "Test Accuracy of     8: 84% (822/974)\n",
      "Test Accuracy of     9: 27% (277/1009)\n",
      "\n",
      "Test Accuracy (Overall): 67% (6703/10000)\n"
     ]
    }
   ],
   "source": [
    "classes = [0, 1, 2, 3, 4, 5, 6, 7, 8, 9]\n",
    "\n",
    "train_on_gpu = True\n",
    "\n",
    "\n",
    "test_loss = 0.0\n",
    "\n",
    "class_correct = [0. for i in range(10)]\n",
    "class_total = [0. for i in range(10)]\n",
    "\n",
    "base_model.eval()                                                        \n",
    "\n",
    "\n",
    "for (images, labels) in test_loader:\n",
    "    \n",
    "    \n",
    "    \n",
    "    logits = base_model(images)\n",
    "    \n",
    "    loss = criterion(logits, labels)\n",
    "    \n",
    "    test_loss += loss.item()*images.size(0)\n",
    "    \n",
    "    pred_prob = F.softmax(logits)                               \n",
    "    \n",
    "    _, predicted_class = pred_prob.max(1)                       \n",
    "    \n",
    "    correct_tensor = predicted_class.eq(labels.data.view_as(predicted_class))\n",
    "    \n",
    "    correct = np.squeeze(correct_tensor.numpy()) \n",
    "    \n",
    "    batch_size = labels.size(0)\n",
    "    \n",
    "    for i in range(batch_size):\n",
    "        label = labels.data[i]\n",
    "        class_correct[label] += correct[i].item()\n",
    "        class_total[label] += 1\n",
    "\n",
    "test_loss = test_loss/len(test_loader.dataset)\n",
    "print('Test Loss: {:.6f}\\n'.format(test_loss))\n",
    "\n",
    "for i in range(10):                                                              \n",
    "    if class_total[i] > 0:\n",
    "        print('Test Accuracy of %5s: %2d%% (%2d/%2d)' % (\n",
    "            classes[i], 100 * class_correct[i] / class_total[i],\n",
    "            np.sum(class_correct[i]), np.sum(class_total[i])))\n",
    "    else:\n",
    "        print('Test Accuracy of %5s: N/A (no training examples)' % (classes[i]))\n",
    "\n",
    "print('\\nTest Accuracy (Overall): %2d%% (%2d/%2d)' % (                           \n",
    "    100. * np.sum(class_correct) / np.sum(class_total),\n",
    "    np.sum(class_correct), np.sum(class_total)))"
   ]
  },
  {
   "cell_type": "code",
   "execution_count": null,
   "metadata": {},
   "outputs": [],
   "source": []
  }
 ],
 "metadata": {
  "kernelspec": {
   "display_name": "Python 3",
   "language": "python",
   "name": "python3"
  },
  "language_info": {
   "codemirror_mode": {
    "name": "ipython",
    "version": 3
   },
   "file_extension": ".py",
   "mimetype": "text/x-python",
   "name": "python",
   "nbconvert_exporter": "python",
   "pygments_lexer": "ipython3",
   "version": "3.7.7"
  }
 },
 "nbformat": 4,
 "nbformat_minor": 4
}
